{
 "cells": [
  {
   "cell_type": "markdown",
   "metadata": {},
   "source": [
    "**Setup**"
   ]
  },
  {
   "cell_type": "code",
   "execution_count": 1,
   "metadata": {},
   "outputs": [],
   "source": [
    "# Imports\n",
    "import warnings\n",
    "from infrastructure import DataEngineering\n",
    "\n",
    "# Supressors\n",
    "warnings.simplefilter(action=\"ignore\", category=FutureWarning)\n",
    "\n",
    "# Data Engineering Object Declaration\n",
    "engineering = DataEngineering()"
   ]
  },
  {
   "cell_type": "markdown",
   "metadata": {},
   "source": [
    "**Main Data Section**"
   ]
  },
  {
   "cell_type": "markdown",
   "metadata": {},
   "source": [
    "- Change Dates to Integer Numbers"
   ]
  },
  {
   "cell_type": "code",
   "execution_count": 2,
   "metadata": {},
   "outputs": [],
   "source": [
    "# updated_train_data = engineering.handle_date(train_data)\n",
    "# updated_test_data = engineering.handle_date(test_data)\n",
    "# updated_holiday_data = engineering.handle_date(holiday_data)\n",
    "# updated_oil_data = engineering.handle_date(oil_data)\n",
    "# updated_transactions_data = engineering.handle_date(transactions_data, transactions=True)"
   ]
  },
  {
   "cell_type": "markdown",
   "metadata": {},
   "source": [
    "- (Alternative Approach) Leave Data as they are so it may be handled by Time Series"
   ]
  },
  {
   "cell_type": "code",
   "execution_count": 3,
   "metadata": {},
   "outputs": [],
   "source": [
    "# Copy and do modifications to Data\n",
    "updated_train_data = engineering.copy_and_format_date(engineering.train_data)\n",
    "updated_test_data = engineering.copy_and_format_date(engineering.test_data)\n",
    "updated_holiday_data = engineering.copy_and_format_date(engineering.holiday_data)\n",
    "updated_oil_data = engineering.copy_and_format_date(engineering.oil_data)\n",
    "updated_transactions_data = engineering.copy_and_format_date(\n",
    "    engineering.transactions_data\n",
    ")\n",
    "\n",
    "# Shallow Copy Only\n",
    "updated_store_data = engineering.copy_data(engineering.store_data)"
   ]
  },
  {
   "cell_type": "markdown",
   "metadata": {},
   "source": [
    "- Create an NP Array that holds all data that needs to be Categorized where:\n",
    "    - 'AUTOMOTIVE': 0\n",
    "    - 'BABY CARE': 1 \n",
    "    - 'BEAUTY': 2\n",
    "    - 'BEVERAGES': 3\n",
    "    - 'BOOKS': 4\n",
    "    - 'BREAD/BAKERY': 5\n",
    "    - 'CELEBRATION': 6\n",
    "    - 'CLEANING': 7\n",
    "    - 'DAIRY': 8\n",
    "    - 'DELI': 9\n",
    "    - 'EGGS': 10\n",
    "    - 'FROZEN FOODS': 11\n",
    "    - 'GROCERY I': 12\n",
    "    - 'GROCERY II': 13\n",
    "    - 'HARDWARE': 14\n",
    "    - 'HOME AND KITCHEN I': 15\n",
    "    - 'HOME AND KITCHEN II': 16\n",
    "    - 'HOME APPLIANCES': 17\n",
    "    - 'HOME CARE': 18\n",
    "    - 'LADIESWEAR': 19\n",
    "    - 'LAWN AND GARDEN': 20\n",
    "    - 'LINGERIE': 21\n",
    "    - 'LIQUOR,WINE,BEER': 22\n",
    "    - 'MAGAZINES': 23\n",
    "    - 'MEATS': 24\n",
    "    - 'PERSONAL CARE': 25\n",
    "    - 'PET SUPPLIES': 26 \n",
    "    - 'PLAYERS AND ELECTRONICS': 27\n",
    "    - 'POULTRY': 28\n",
    "    - 'PREPARED FOODS': 29\n",
    "    - 'PRODUCE': 30\n",
    "    - 'SCHOOL AND OFFICE SUPPLIES': 31\n",
    "    - 'SEAFOOD': 32"
   ]
  },
  {
   "cell_type": "code",
   "execution_count": 4,
   "metadata": {},
   "outputs": [],
   "source": [
    "target_feature = engineering.remove_duplicates_from_feature(series=updated_train_data['family'])"
   ]
  },
  {
   "cell_type": "markdown",
   "metadata": {},
   "source": [
    "- Apply One Hot Encoder"
   ]
  },
  {
   "cell_type": "code",
   "execution_count": 5,
   "metadata": {},
   "outputs": [],
   "source": [
    "updated_train_data = engineering.ohe_categorization(\n",
    "    df=updated_train_data, field=\"family\", cols=target_feature\n",
    ")\n",
    "updated_test_data = engineering.ohe_categorization(\n",
    "    df=updated_test_data, field=\"family\", cols=target_feature\n",
    ")"
   ]
  },
  {
   "cell_type": "markdown",
   "metadata": {},
   "source": [
    "- (Alternative) Apply Ordinal Encoder"
   ]
  },
  {
   "cell_type": "code",
   "execution_count": 6,
   "metadata": {},
   "outputs": [],
   "source": [
    "# updated_train_data = engineering.ordinal_categorization(updated_train_data, \"family\")\n",
    "# updated_test_data = engineering.ordinal_categorization(updated_test_data, \"family\")"
   ]
  },
  {
   "cell_type": "markdown",
   "metadata": {},
   "source": [
    "**Oil Section**"
   ]
  },
  {
   "cell_type": "markdown",
   "metadata": {},
   "source": [
    "- Query Oil Data for each of Train and Test"
   ]
  },
  {
   "cell_type": "code",
   "execution_count": 7,
   "metadata": {},
   "outputs": [],
   "source": [
    "train_oil_data = engineering.query_data(updated_oil_data, \"date <= '2014-08-13'\")\n",
    "test_oil_data = engineering.query_data(updated_oil_data, \"date >= '2017-08-16'\")"
   ]
  },
  {
   "cell_type": "markdown",
   "metadata": {},
   "source": [
    "- Include Oil Price Column in Train Data"
   ]
  },
  {
   "cell_type": "code",
   "execution_count": 8,
   "metadata": {},
   "outputs": [],
   "source": [
    "train_dataframe = engineering.merge_and_fill(\n",
    "    df1=updated_train_data, df2=train_oil_data, on=\"date\", fillna=True, filler=93.14\n",
    ")"
   ]
  },
  {
   "cell_type": "markdown",
   "metadata": {},
   "source": [
    "- Include Oil Price Column in Test Data"
   ]
  },
  {
   "cell_type": "code",
   "execution_count": 9,
   "metadata": {},
   "outputs": [],
   "source": [
    "test_dataframe = engineering.merge_and_fill(\n",
    "    df1=updated_test_data, df2=test_oil_data, on=\"date\"\n",
    ")"
   ]
  },
  {
   "cell_type": "markdown",
   "metadata": {},
   "source": [
    "- Rename Column: dcoilwtico to oil_price for better readability"
   ]
  },
  {
   "cell_type": "code",
   "execution_count": 10,
   "metadata": {},
   "outputs": [],
   "source": [
    "for data in [train_dataframe, test_dataframe]:\n",
    "    data.rename(columns={\"dcoilwtico\": \"oil_price\"}, inplace=True)"
   ]
  },
  {
   "cell_type": "markdown",
   "metadata": {},
   "source": [
    "**Holiday Section**"
   ]
  },
  {
   "cell_type": "markdown",
   "metadata": {},
   "source": [
    "- Create an NP Array that holds all data that needs to be Categorized where:\n",
    "  - 'Holiday': 0\n",
    "  - 'Transfer': 1 \n",
    "  - 'Additional': 2 \n",
    "  - 'Bridge': 3\n",
    "  - 'Work Day': 4\n",
    "  - 'Event': 5"
   ]
  },
  {
   "cell_type": "code",
   "execution_count": 11,
   "metadata": {},
   "outputs": [],
   "source": [
    "target_feature = engineering.remove_duplicates_from_feature(\n",
    "    series=updated_holiday_data[\"type\"]\n",
    ")"
   ]
  },
  {
   "cell_type": "markdown",
   "metadata": {},
   "source": [
    "Add Holiday Types Column for Train"
   ]
  },
  {
   "cell_type": "code",
   "execution_count": 12,
   "metadata": {},
   "outputs": [],
   "source": [
    "train_dataframe = engineering.handle_holidays_data(\n",
    "    left_df=train_dataframe,\n",
    "    holiday_df=updated_holiday_data,\n",
    "    query=\"'2013-01-01' <= date <= '2014-08-13'\"\n",
    ")"
   ]
  },
  {
   "cell_type": "markdown",
   "metadata": {},
   "source": [
    "Add Holiday Types Column for Test"
   ]
  },
  {
   "cell_type": "code",
   "execution_count": 13,
   "metadata": {},
   "outputs": [],
   "source": [
    "test_dataframe = engineering.handle_holidays_data(\n",
    "    left_df=test_dataframe,\n",
    "    holiday_df=updated_holiday_data,\n",
    "    query=\"'2017-08-16' <= date <= '2017-08-31'\",\n",
    ")"
   ]
  },
  {
   "cell_type": "markdown",
   "metadata": {},
   "source": [
    "- Apply One Hot Encoder"
   ]
  },
  {
   "cell_type": "code",
   "execution_count": 14,
   "metadata": {},
   "outputs": [],
   "source": [
    "train_dataframe = engineering.ohe_categorization(\n",
    "    df=train_dataframe, field=\"type\", cols=target_feature\n",
    ")\n",
    "\n",
    "test_dataframe = engineering.ohe_categorization(\n",
    "    df=test_dataframe, field=\"type\", cols=target_feature\n",
    ")"
   ]
  },
  {
   "cell_type": "markdown",
   "metadata": {},
   "source": [
    "- Add The Remaining Holiday Types as Separate Columns in The Test"
   ]
  },
  {
   "cell_type": "code",
   "execution_count": 15,
   "metadata": {},
   "outputs": [],
   "source": [
    "test_dataframe['additional'] = test_dataframe['holiday']\n",
    "test_dataframe[\"bridge\"] = test_dataframe[\"holiday\"]\n",
    "test_dataframe[\"work_day\"] = test_dataframe[\"holiday\"]"
   ]
  },
  {
   "cell_type": "markdown",
   "metadata": {},
   "source": [
    "- (Alternative) Apply Ordinal Encoder"
   ]
  },
  {
   "cell_type": "code",
   "execution_count": 16,
   "metadata": {},
   "outputs": [],
   "source": [
    "# updated_holiday_data = engineering.ordinal_categorization(updated_holiday_data, \"type\")"
   ]
  },
  {
   "cell_type": "markdown",
   "metadata": {},
   "source": [
    "**Stores Section**"
   ]
  },
  {
   "cell_type": "markdown",
   "metadata": {},
   "source": [
    "- Merge Stores Data with Train and Test"
   ]
  },
  {
   "cell_type": "code",
   "execution_count": 17,
   "metadata": {},
   "outputs": [],
   "source": [
    "train_dataframe = engineering.merge_and_fill(\n",
    "    df1=train_dataframe,\n",
    "    df2=updated_store_data,\n",
    "    on=\"store_nbr\"\n",
    ")\n",
    "test_dataframe = engineering.merge_and_fill(\n",
    "    df1=test_dataframe,\n",
    "    df2=updated_store_data,\n",
    "    on=\"store_nbr\"\n",
    ")"
   ]
  },
  {
   "cell_type": "markdown",
   "metadata": {},
   "source": [
    "**Transactions Section (Droppable)**"
   ]
  },
  {
   "cell_type": "markdown",
   "metadata": {},
   "source": [
    "- Query Transactions Data for each of Train and Test"
   ]
  },
  {
   "cell_type": "code",
   "execution_count": 18,
   "metadata": {},
   "outputs": [],
   "source": [
    "# train_transactions_data = engineering.query_data(\n",
    "#     updated_transactions_data, \"date <= '2014-08-13'\"\n",
    "# )"
   ]
  },
  {
   "cell_type": "markdown",
   "metadata": {},
   "source": [
    "- Include Transaction Column in Train Data"
   ]
  },
  {
   "cell_type": "code",
   "execution_count": 19,
   "metadata": {},
   "outputs": [],
   "source": [
    "# train_dataframe = engineering.merge_and_fill(\n",
    "#     df1=train_dataframe,\n",
    "#     df2=updated_transactions_data,\n",
    "#     on=[\"date\", \"store_nbr\"],\n",
    "#     fillna=True,\n",
    "# )"
   ]
  },
  {
   "cell_type": "markdown",
   "metadata": {},
   "source": [
    "**Generate Output Files**"
   ]
  },
  {
   "cell_type": "markdown",
   "metadata": {},
   "source": [
    "- This Code takes less time to generate Files yet the Columns will be quite scattered"
   ]
  },
  {
   "cell_type": "code",
   "execution_count": 20,
   "metadata": {},
   "outputs": [
    {
     "data": {
      "text/html": [
       "<div>\n",
       "<style scoped>\n",
       "    .dataframe tbody tr th:only-of-type {\n",
       "        vertical-align: middle;\n",
       "    }\n",
       "\n",
       "    .dataframe tbody tr th {\n",
       "        vertical-align: top;\n",
       "    }\n",
       "\n",
       "    .dataframe thead th {\n",
       "        text-align: right;\n",
       "    }\n",
       "</style>\n",
       "<table border=\"1\" class=\"dataframe\">\n",
       "  <thead>\n",
       "    <tr style=\"text-align: right;\">\n",
       "      <th></th>\n",
       "      <th>id</th>\n",
       "      <th>date</th>\n",
       "      <th>store_nbr</th>\n",
       "      <th>sales</th>\n",
       "      <th>onpromotion</th>\n",
       "      <th>automotive</th>\n",
       "      <th>baby_care</th>\n",
       "      <th>beauty</th>\n",
       "      <th>beverages</th>\n",
       "      <th>books</th>\n",
       "      <th>...</th>\n",
       "      <th>produce</th>\n",
       "      <th>school_and_office_supplies</th>\n",
       "      <th>seafood</th>\n",
       "      <th>oil_price</th>\n",
       "      <th>holiday</th>\n",
       "      <th>transfer</th>\n",
       "      <th>additional</th>\n",
       "      <th>bridge</th>\n",
       "      <th>work_day</th>\n",
       "      <th>cluster</th>\n",
       "    </tr>\n",
       "  </thead>\n",
       "  <tbody>\n",
       "    <tr>\n",
       "      <th>0</th>\n",
       "      <td>0.0</td>\n",
       "      <td>2013-01-01</td>\n",
       "      <td>1.0</td>\n",
       "      <td>0.000</td>\n",
       "      <td>0.0</td>\n",
       "      <td>1.0</td>\n",
       "      <td>0.0</td>\n",
       "      <td>0.0</td>\n",
       "      <td>0.0</td>\n",
       "      <td>0.0</td>\n",
       "      <td>...</td>\n",
       "      <td>0.0</td>\n",
       "      <td>0.0</td>\n",
       "      <td>0.0</td>\n",
       "      <td>93.14</td>\n",
       "      <td>0.0</td>\n",
       "      <td>0.0</td>\n",
       "      <td>1.0</td>\n",
       "      <td>0.0</td>\n",
       "      <td>0.0</td>\n",
       "      <td>13.0</td>\n",
       "    </tr>\n",
       "    <tr>\n",
       "      <th>1</th>\n",
       "      <td>1.0</td>\n",
       "      <td>2013-01-01</td>\n",
       "      <td>1.0</td>\n",
       "      <td>0.000</td>\n",
       "      <td>0.0</td>\n",
       "      <td>0.0</td>\n",
       "      <td>1.0</td>\n",
       "      <td>0.0</td>\n",
       "      <td>0.0</td>\n",
       "      <td>0.0</td>\n",
       "      <td>...</td>\n",
       "      <td>0.0</td>\n",
       "      <td>0.0</td>\n",
       "      <td>0.0</td>\n",
       "      <td>93.14</td>\n",
       "      <td>0.0</td>\n",
       "      <td>0.0</td>\n",
       "      <td>1.0</td>\n",
       "      <td>0.0</td>\n",
       "      <td>0.0</td>\n",
       "      <td>13.0</td>\n",
       "    </tr>\n",
       "    <tr>\n",
       "      <th>2</th>\n",
       "      <td>2.0</td>\n",
       "      <td>2013-01-01</td>\n",
       "      <td>1.0</td>\n",
       "      <td>0.000</td>\n",
       "      <td>0.0</td>\n",
       "      <td>0.0</td>\n",
       "      <td>0.0</td>\n",
       "      <td>1.0</td>\n",
       "      <td>0.0</td>\n",
       "      <td>0.0</td>\n",
       "      <td>...</td>\n",
       "      <td>0.0</td>\n",
       "      <td>0.0</td>\n",
       "      <td>0.0</td>\n",
       "      <td>93.14</td>\n",
       "      <td>0.0</td>\n",
       "      <td>0.0</td>\n",
       "      <td>1.0</td>\n",
       "      <td>0.0</td>\n",
       "      <td>0.0</td>\n",
       "      <td>13.0</td>\n",
       "    </tr>\n",
       "    <tr>\n",
       "      <th>3</th>\n",
       "      <td>3.0</td>\n",
       "      <td>2013-01-01</td>\n",
       "      <td>1.0</td>\n",
       "      <td>0.000</td>\n",
       "      <td>0.0</td>\n",
       "      <td>0.0</td>\n",
       "      <td>0.0</td>\n",
       "      <td>0.0</td>\n",
       "      <td>1.0</td>\n",
       "      <td>0.0</td>\n",
       "      <td>...</td>\n",
       "      <td>0.0</td>\n",
       "      <td>0.0</td>\n",
       "      <td>0.0</td>\n",
       "      <td>93.14</td>\n",
       "      <td>0.0</td>\n",
       "      <td>0.0</td>\n",
       "      <td>1.0</td>\n",
       "      <td>0.0</td>\n",
       "      <td>0.0</td>\n",
       "      <td>13.0</td>\n",
       "    </tr>\n",
       "    <tr>\n",
       "      <th>4</th>\n",
       "      <td>4.0</td>\n",
       "      <td>2013-01-01</td>\n",
       "      <td>1.0</td>\n",
       "      <td>0.000</td>\n",
       "      <td>0.0</td>\n",
       "      <td>0.0</td>\n",
       "      <td>0.0</td>\n",
       "      <td>0.0</td>\n",
       "      <td>0.0</td>\n",
       "      <td>1.0</td>\n",
       "      <td>...</td>\n",
       "      <td>0.0</td>\n",
       "      <td>0.0</td>\n",
       "      <td>0.0</td>\n",
       "      <td>93.14</td>\n",
       "      <td>0.0</td>\n",
       "      <td>0.0</td>\n",
       "      <td>1.0</td>\n",
       "      <td>0.0</td>\n",
       "      <td>0.0</td>\n",
       "      <td>13.0</td>\n",
       "    </tr>\n",
       "    <tr>\n",
       "      <th>...</th>\n",
       "      <td>...</td>\n",
       "      <td>...</td>\n",
       "      <td>...</td>\n",
       "      <td>...</td>\n",
       "      <td>...</td>\n",
       "      <td>...</td>\n",
       "      <td>...</td>\n",
       "      <td>...</td>\n",
       "      <td>...</td>\n",
       "      <td>...</td>\n",
       "      <td>...</td>\n",
       "      <td>...</td>\n",
       "      <td>...</td>\n",
       "      <td>...</td>\n",
       "      <td>...</td>\n",
       "      <td>...</td>\n",
       "      <td>...</td>\n",
       "      <td>...</td>\n",
       "      <td>...</td>\n",
       "      <td>...</td>\n",
       "      <td>...</td>\n",
       "    </tr>\n",
       "    <tr>\n",
       "      <th>1064634</th>\n",
       "      <td>1047813.0</td>\n",
       "      <td>2014-12-08</td>\n",
       "      <td>9.0</td>\n",
       "      <td>0.000</td>\n",
       "      <td>0.0</td>\n",
       "      <td>0.0</td>\n",
       "      <td>0.0</td>\n",
       "      <td>0.0</td>\n",
       "      <td>0.0</td>\n",
       "      <td>0.0</td>\n",
       "      <td>...</td>\n",
       "      <td>1.0</td>\n",
       "      <td>0.0</td>\n",
       "      <td>0.0</td>\n",
       "      <td>97.61</td>\n",
       "      <td>0.0</td>\n",
       "      <td>0.0</td>\n",
       "      <td>0.0</td>\n",
       "      <td>0.0</td>\n",
       "      <td>1.0</td>\n",
       "      <td>6.0</td>\n",
       "    </tr>\n",
       "    <tr>\n",
       "      <th>1064635</th>\n",
       "      <td>1047814.0</td>\n",
       "      <td>2014-12-08</td>\n",
       "      <td>9.0</td>\n",
       "      <td>0.000</td>\n",
       "      <td>0.0</td>\n",
       "      <td>0.0</td>\n",
       "      <td>0.0</td>\n",
       "      <td>0.0</td>\n",
       "      <td>0.0</td>\n",
       "      <td>0.0</td>\n",
       "      <td>...</td>\n",
       "      <td>0.0</td>\n",
       "      <td>1.0</td>\n",
       "      <td>0.0</td>\n",
       "      <td>97.61</td>\n",
       "      <td>0.0</td>\n",
       "      <td>0.0</td>\n",
       "      <td>0.0</td>\n",
       "      <td>0.0</td>\n",
       "      <td>1.0</td>\n",
       "      <td>6.0</td>\n",
       "    </tr>\n",
       "    <tr>\n",
       "      <th>1064636</th>\n",
       "      <td>1047815.0</td>\n",
       "      <td>2014-12-08</td>\n",
       "      <td>9.0</td>\n",
       "      <td>8.088</td>\n",
       "      <td>0.0</td>\n",
       "      <td>0.0</td>\n",
       "      <td>0.0</td>\n",
       "      <td>0.0</td>\n",
       "      <td>0.0</td>\n",
       "      <td>0.0</td>\n",
       "      <td>...</td>\n",
       "      <td>0.0</td>\n",
       "      <td>0.0</td>\n",
       "      <td>1.0</td>\n",
       "      <td>97.61</td>\n",
       "      <td>0.0</td>\n",
       "      <td>0.0</td>\n",
       "      <td>0.0</td>\n",
       "      <td>0.0</td>\n",
       "      <td>1.0</td>\n",
       "      <td>6.0</td>\n",
       "    </tr>\n",
       "    <tr>\n",
       "      <th>1064637</th>\n",
       "      <td>1047815.0</td>\n",
       "      <td>2014-02-11</td>\n",
       "      <td>9.0</td>\n",
       "      <td>8.088</td>\n",
       "      <td>0.0</td>\n",
       "      <td>0.0</td>\n",
       "      <td>0.0</td>\n",
       "      <td>0.0</td>\n",
       "      <td>0.0</td>\n",
       "      <td>0.0</td>\n",
       "      <td>...</td>\n",
       "      <td>0.0</td>\n",
       "      <td>0.0</td>\n",
       "      <td>1.0</td>\n",
       "      <td>97.61</td>\n",
       "      <td>0.0</td>\n",
       "      <td>0.0</td>\n",
       "      <td>1.0</td>\n",
       "      <td>0.0</td>\n",
       "      <td>0.0</td>\n",
       "      <td>6.0</td>\n",
       "    </tr>\n",
       "    <tr>\n",
       "      <th>1064638</th>\n",
       "      <td>1047815.0</td>\n",
       "      <td>2014-06-12</td>\n",
       "      <td>9.0</td>\n",
       "      <td>8.088</td>\n",
       "      <td>0.0</td>\n",
       "      <td>0.0</td>\n",
       "      <td>0.0</td>\n",
       "      <td>0.0</td>\n",
       "      <td>0.0</td>\n",
       "      <td>0.0</td>\n",
       "      <td>...</td>\n",
       "      <td>0.0</td>\n",
       "      <td>0.0</td>\n",
       "      <td>1.0</td>\n",
       "      <td>97.61</td>\n",
       "      <td>0.0</td>\n",
       "      <td>0.0</td>\n",
       "      <td>1.0</td>\n",
       "      <td>0.0</td>\n",
       "      <td>0.0</td>\n",
       "      <td>6.0</td>\n",
       "    </tr>\n",
       "  </tbody>\n",
       "</table>\n",
       "<p>1064639 rows × 45 columns</p>\n",
       "</div>"
      ],
      "text/plain": [
       "                id       date  store_nbr  sales  onpromotion  automotive  \\\n",
       "0              0.0 2013-01-01        1.0  0.000          0.0         1.0   \n",
       "1              1.0 2013-01-01        1.0  0.000          0.0         0.0   \n",
       "2              2.0 2013-01-01        1.0  0.000          0.0         0.0   \n",
       "3              3.0 2013-01-01        1.0  0.000          0.0         0.0   \n",
       "4              4.0 2013-01-01        1.0  0.000          0.0         0.0   \n",
       "...            ...        ...        ...    ...          ...         ...   \n",
       "1064634  1047813.0 2014-12-08        9.0  0.000          0.0         0.0   \n",
       "1064635  1047814.0 2014-12-08        9.0  0.000          0.0         0.0   \n",
       "1064636  1047815.0 2014-12-08        9.0  8.088          0.0         0.0   \n",
       "1064637  1047815.0 2014-02-11        9.0  8.088          0.0         0.0   \n",
       "1064638  1047815.0 2014-06-12        9.0  8.088          0.0         0.0   \n",
       "\n",
       "         baby_care  beauty  beverages  books  ...  produce  \\\n",
       "0              0.0     0.0        0.0    0.0  ...      0.0   \n",
       "1              1.0     0.0        0.0    0.0  ...      0.0   \n",
       "2              0.0     1.0        0.0    0.0  ...      0.0   \n",
       "3              0.0     0.0        1.0    0.0  ...      0.0   \n",
       "4              0.0     0.0        0.0    1.0  ...      0.0   \n",
       "...            ...     ...        ...    ...  ...      ...   \n",
       "1064634        0.0     0.0        0.0    0.0  ...      1.0   \n",
       "1064635        0.0     0.0        0.0    0.0  ...      0.0   \n",
       "1064636        0.0     0.0        0.0    0.0  ...      0.0   \n",
       "1064637        0.0     0.0        0.0    0.0  ...      0.0   \n",
       "1064638        0.0     0.0        0.0    0.0  ...      0.0   \n",
       "\n",
       "         school_and_office_supplies  seafood  oil_price  holiday  transfer  \\\n",
       "0                               0.0      0.0      93.14      0.0       0.0   \n",
       "1                               0.0      0.0      93.14      0.0       0.0   \n",
       "2                               0.0      0.0      93.14      0.0       0.0   \n",
       "3                               0.0      0.0      93.14      0.0       0.0   \n",
       "4                               0.0      0.0      93.14      0.0       0.0   \n",
       "...                             ...      ...        ...      ...       ...   \n",
       "1064634                         0.0      0.0      97.61      0.0       0.0   \n",
       "1064635                         1.0      0.0      97.61      0.0       0.0   \n",
       "1064636                         0.0      1.0      97.61      0.0       0.0   \n",
       "1064637                         0.0      1.0      97.61      0.0       0.0   \n",
       "1064638                         0.0      1.0      97.61      0.0       0.0   \n",
       "\n",
       "         additional  bridge  work_day  cluster  \n",
       "0               1.0     0.0       0.0     13.0  \n",
       "1               1.0     0.0       0.0     13.0  \n",
       "2               1.0     0.0       0.0     13.0  \n",
       "3               1.0     0.0       0.0     13.0  \n",
       "4               1.0     0.0       0.0     13.0  \n",
       "...             ...     ...       ...      ...  \n",
       "1064634         0.0     0.0       1.0      6.0  \n",
       "1064635         0.0     0.0       1.0      6.0  \n",
       "1064636         0.0     0.0       1.0      6.0  \n",
       "1064637         1.0     0.0       0.0      6.0  \n",
       "1064638         1.0     0.0       0.0      6.0  \n",
       "\n",
       "[1064639 rows x 45 columns]"
      ]
     },
     "execution_count": 20,
     "metadata": {},
     "output_type": "execute_result"
    }
   ],
   "source": [
    "engineering.generate_file(df=train_dataframe, filename=\"train\")\n",
    "engineering.generate_file(df=test_dataframe, filename=\"test\")"
   ]
  }
 ],
 "metadata": {
  "kernelspec": {
   "display_name": "Python 3",
   "language": "python",
   "name": "python3"
  },
  "language_info": {
   "codemirror_mode": {
    "name": "ipython",
    "version": 3
   },
   "file_extension": ".py",
   "mimetype": "text/x-python",
   "name": "python",
   "nbconvert_exporter": "python",
   "pygments_lexer": "ipython3",
   "version": "3.10.1"
  }
 },
 "nbformat": 4,
 "nbformat_minor": 2
}
