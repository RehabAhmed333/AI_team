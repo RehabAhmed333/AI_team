version https://git-lfs.github.com/spec/v1
oid sha256:42f08ff5219761b0086306a2a4d709fa3df5f87e05f3abb2a0074bc7423efacb
size 12023
